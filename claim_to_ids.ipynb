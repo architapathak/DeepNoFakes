{
 "cells": [
  {
   "cell_type": "code",
   "execution_count": 7,
   "metadata": {},
   "outputs": [],
   "source": [
    "import pickle\n",
    "import pandas as pd"
   ]
  },
  {
   "cell_type": "code",
   "execution_count": 2,
   "metadata": {},
   "outputs": [],
   "source": [
    "with open('evaluation_set/deepnofakes/dnf_300/cleaned/cleaned_dnf300_sent_array_id.p', 'rb') as fp:\n",
    "    articles300 = pickle.load(fp)"
   ]
  },
  {
   "cell_type": "markdown",
   "metadata": {},
   "source": [
    "var = articles300[4]\n",
    "for i in range(len(var)):\n",
    "    print(i,\":\",var[i])"
   ]
  },
  {
   "cell_type": "code",
   "execution_count": 34,
   "metadata": {},
   "outputs": [
    {
     "data": {
      "text/html": [
       "<div>\n",
       "<style scoped>\n",
       "    .dataframe tbody tr th:only-of-type {\n",
       "        vertical-align: middle;\n",
       "    }\n",
       "\n",
       "    .dataframe tbody tr th {\n",
       "        vertical-align: top;\n",
       "    }\n",
       "\n",
       "    .dataframe thead th {\n",
       "        text-align: right;\n",
       "    }\n",
       "</style>\n",
       "<table border=\"1\" class=\"dataframe\">\n",
       "  <thead>\n",
       "    <tr style=\"text-align: right;\">\n",
       "      <th></th>\n",
       "      <th>authors</th>\n",
       "      <th>claim_ids</th>\n",
       "      <th>evidence</th>\n",
       "      <th>headline</th>\n",
       "      <th>id</th>\n",
       "      <th>reason</th>\n",
       "      <th>sentences</th>\n",
       "      <th>type</th>\n",
       "      <th>urls</th>\n",
       "    </tr>\n",
       "  </thead>\n",
       "  <tbody>\n",
       "    <tr>\n",
       "      <th>0</th>\n",
       "      <td>Bushord Washington</td>\n",
       "      <td>[0, 5, 18]</td>\n",
       "      <td>[https://www.snopes.com/fact-check/wikileaks-c...</td>\n",
       "      <td>WikiLeaks CONFIRMS Hillary Sold Weapons to ISI...</td>\n",
       "      <td>0</td>\n",
       "      <td>Based on Snopes rating 'Mixture' which means '...</td>\n",
       "      <td>[Hillary Clinton is being accused of knowingly...</td>\n",
       "      <td>1</td>\n",
       "      <td>http://thefederalistpapers.org/us/wikileaks-cl...</td>\n",
       "    </tr>\n",
       "    <tr>\n",
       "      <th>1</th>\n",
       "      <td>Mike Adams</td>\n",
       "      <td>[1, 2, 4]</td>\n",
       "      <td>[https://www.snopes.com/fact-check/clinton-sec...</td>\n",
       "      <td>Hillary Clinton Wore Secret Earpiece During Fi...</td>\n",
       "      <td>1</td>\n",
       "      <td>Based on Snopes rating 'False' which means 'th...</td>\n",
       "      <td>[Now we learn that she was wearing a covert ea...</td>\n",
       "      <td>0</td>\n",
       "      <td>http://www.naturalnews.com/055233_ear_piece_Hi...</td>\n",
       "    </tr>\n",
       "  </tbody>\n",
       "</table>\n",
       "</div>"
      ],
      "text/plain": [
       "              authors   claim_ids  \\\n",
       "0  Bushord Washington  [0, 5, 18]   \n",
       "1          Mike Adams   [1, 2, 4]   \n",
       "\n",
       "                                            evidence  \\\n",
       "0  [https://www.snopes.com/fact-check/wikileaks-c...   \n",
       "1  [https://www.snopes.com/fact-check/clinton-sec...   \n",
       "\n",
       "                                            headline  id  \\\n",
       "0  WikiLeaks CONFIRMS Hillary Sold Weapons to ISI...   0   \n",
       "1  Hillary Clinton Wore Secret Earpiece During Fi...   1   \n",
       "\n",
       "                                              reason  \\\n",
       "0  Based on Snopes rating 'Mixture' which means '...   \n",
       "1  Based on Snopes rating 'False' which means 'th...   \n",
       "\n",
       "                                           sentences type  \\\n",
       "0  [Hillary Clinton is being accused of knowingly...    1   \n",
       "1  [Now we learn that she was wearing a covert ea...    0   \n",
       "\n",
       "                                                urls  \n",
       "0  http://thefederalistpapers.org/us/wikileaks-cl...  \n",
       "1  http://www.naturalnews.com/055233_ear_piece_Hi...  "
      ]
     },
     "metadata": {},
     "output_type": "display_data"
    }
   ],
   "source": [
    "dnf_eval = pd.read_json('evaluation_set/deepnofakes/Evaluation_Final_50_V4.json')\n",
    "display(dnf_eval.head(2))\n",
    "dnf_eval.columns = ['authors', 'claim_ids', 'evidence', 'headline', 'id', 'reason', 'claims', 'type', 'urls'] "
   ]
  },
  {
   "cell_type": "code",
   "execution_count": 13,
   "metadata": {},
   "outputs": [],
   "source": [
    "claim_var = dnf_eval[dnf_eval.id==10]['claims'].values[0]"
   ]
  },
  {
   "cell_type": "code",
   "execution_count": 16,
   "metadata": {},
   "outputs": [],
   "source": [
    "for v in var:\n",
    "    if v in claim_var:\n",
    "        print(\"True\")"
   ]
  },
  {
   "cell_type": "code",
   "execution_count": 80,
   "metadata": {},
   "outputs": [
    {
     "name": "stdout",
     "output_type": "stream",
     "text": [
      "0 : Last night a leaked memo was revealed, indicating FBI director James Comey's stated reasons for reopening the Clinton email probe upon discovering what now appear to be tens of thousands of Huma Abedin emails located on Anthony Weiner's notebook.\n",
      "1 : Comey revealed two core reasons for the action: a sense of obligation to lawmakers and a concern that word of the new email discovery would leak to the media and raise questions of a coverup.\n",
      "2 : What he did not reveal, and as has emerged overnight from a report by the New Yorker's Jane Mayer, is that Comey also acted in contravention to DOJ practices, and more importantly, acted contrary to the \"preference\" of DOJ head Loretta Lynch, whose infamous meeting with Bill Clinton on the Phoenix tarmac at the end of June will likely be reassessed in light of these latest revelations.\n",
      "3 : According to the New Yorker, \"Comey's decision to make public new evidence that may raise additional legal questions about Clinton was contrary to the views of the Attorney General, according to a well-informed Administration official.\n",
      "4 : Lynch expressed her preference that Comey follow the department's longstanding practice of not commenting on ongoing investigations, and not taking any action that could influence the outcome of an election, but he said that he felt compelled to do otherwise. \"\n",
      "5 : Traditionally, the Justice Department has advised prosecutors and law enforcement to avoid any appearance of meddling in the outcome of elections, even if it means holding off on pressing cases .\n",
      "6 : One former senior official recalled that Janet Reno, the Attorney General under Bill Clinton, \"completely shut down the prosecution of a politically sensitive criminal target prior to an election . \"\n",
      "7 : She was adamant—anything that could influence the election had to go dark,\" the former official said.\n"
     ]
    }
   ],
   "source": [
    "var = articles300[39] \n",
    "for i in range(len(var)): \n",
    "    print(i,\":\",var[i])"
   ]
  },
  {
   "cell_type": "code",
   "execution_count": null,
   "metadata": {},
   "outputs": [],
   "source": []
  }
 ],
 "metadata": {
  "kernelspec": {
   "display_name": "Python 3",
   "language": "python",
   "name": "python3"
  },
  "language_info": {
   "codemirror_mode": {
    "name": "ipython",
    "version": 3
   },
   "file_extension": ".py",
   "mimetype": "text/x-python",
   "name": "python",
   "nbconvert_exporter": "python",
   "pygments_lexer": "ipython3",
   "version": "3.7.3"
  }
 },
 "nbformat": 4,
 "nbformat_minor": 2
}
