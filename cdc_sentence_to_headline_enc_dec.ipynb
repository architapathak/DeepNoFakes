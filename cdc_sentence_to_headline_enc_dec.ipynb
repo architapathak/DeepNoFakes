{
 "cells": [
  {
   "cell_type": "code",
   "execution_count": 1,
   "metadata": {},
   "outputs": [
    {
     "name": "stderr",
     "output_type": "stream",
     "text": [
      "Using TensorFlow backend.\n"
     ]
    }
   ],
   "source": [
    "import sklearn.preprocessing as preprocess\n",
    "import numpy as np\n",
    "import pandas as pd\n",
    "from keras import optimizers\n",
    "import keras.layers as kl\n",
    "from keras import backend as K\n",
    "import spacy\n",
    "from keras.utils import to_categorical\n",
    "from spacy.lang.en import English\n",
    "pd.set_option('display.max_colwidth', 0)\n",
    "pd.set_option('display.max_rows', 1000)\n",
    "from tqdm import tqdm_notebook\n",
    "from keras.layers import Conv1D, MaxPooling1D, Input, TimeDistributed, Dense, LSTM, RepeatVector, GlobalAveragePooling1D\n",
    "from keras.models import Model\n",
    "import pickle\n"
   ]
  },
  {
   "cell_type": "code",
   "execution_count": 2,
   "metadata": {
    "scrolled": true
   },
   "outputs": [
    {
     "data": {
      "text/plain": [
       "(Index(['Topic', 'Title', 'article Id', 'Headline'], dtype='object'),\n",
       " Index(['Unnamed: 0', 'Topic', 'Article', 'Claim'], dtype='object'),\n",
       " 522,\n",
       " 522)"
      ]
     },
     "execution_count": 2,
     "metadata": {},
     "output_type": "execute_result"
    }
   ],
   "source": [
    "df_hd_tp = pd.read_csv('evaluation_set/cdc_ibm/headline_topic_mapping.csv')\n",
    "df_ar_cl = pd.read_csv('evaluation_set/cdc_ibm/article_claim_mapping.csv')\n",
    "with open('evaluation_set/cdc_ibm/articles.p', 'rb') as fp:\n",
    "    articles = pickle.load(fp)\n",
    "with open('evaluation_set/cdc_ibm/article_vectors.p', 'rb') as fp:\n",
    "    article_vectors = pickle.load(fp)\n",
    "df_hd_tp.keys(),df_ar_cl.keys(), len(articles.keys()), len(article_vectors.keys())"
   ]
  },
  {
   "cell_type": "code",
   "execution_count": 3,
   "metadata": {},
   "outputs": [],
   "source": [
    "def load_spacy():\n",
    "    sentencizer = English()\n",
    "    sentencizer.add_pipe(sentencizer.create_pipe('sentencizer'))\n",
    "    nlp = spacy.load(\"en_core_web_md\")\n",
    "    return sentencizer, nlp\n",
    "sentencizer, nlp = load_spacy()"
   ]
  },
  {
   "cell_type": "code",
   "execution_count": 4,
   "metadata": {},
   "outputs": [],
   "source": [
    "def datagen(batchsize,dataframe):\n",
    "    counter=0\n",
    "    ar_ids,ar_sents,ar_head_vectors,ar_head_classes=[],[],[],[]\n",
    "    while True:\n",
    "        idx=np.random.choice(dataframe.Title.unique())\n",
    "        hd = dataframe[dataframe.Title==idx]['Headline'].values[0]\n",
    "        ar_id = dataframe[dataframe.Title==idx]['article Id'].values[0]\n",
    "#         cl = dataframe[dataframe.Article==idx]['Claim'].values\n",
    "        sentences=articles[ar_id]\n",
    "#         print(len(sentences))\n",
    "        sents = np.zeros((1300,300))\n",
    "        vectors = article_vectors[ar_id]\n",
    "        sents[:len(vectors)] = vectors\n",
    "        ar_ids.append(ar_id)\n",
    "        ar_sents.append(sents)\n",
    "        hd_nlp = nlp(hd)\n",
    "        head_classes = np.zeros(50, dtype='int')\n",
    "        for i in range(len(hd_nlp)):\n",
    "            head_classes[i] = hd_nlp[i].rank\n",
    "        ar_head_vectors.append(hd_nlp.vector)\n",
    "        ar_head_classes.append(to_categorical(num_classes=20000,y=head_classes))\n",
    "        counter+=1\n",
    "        if counter==batchsize:\n",
    "            inputs = {'sentence_vectors' : np.array(ar_sents)\n",
    "                            ,'headline_vector': np.array(ar_head_vectors)}\n",
    "            outputs = {'headline_token_classes': np.array(ar_head_classes)}\n",
    "            yield inputs,outputs\n",
    "            ar_ids,ar_sents,ar_head_vectors,ar_head_classes=[],[],[],[]\n",
    "            counter=0\n",
    "            "
   ]
  },
  {
   "cell_type": "code",
   "execution_count": 5,
   "metadata": {},
   "outputs": [],
   "source": [
    "tdg = datagen(32,df_hd_tp)"
   ]
  },
  {
   "cell_type": "code",
   "execution_count": 6,
   "metadata": {
    "scrolled": true
   },
   "outputs": [],
   "source": [
    "x,y = next(tdg)"
   ]
  },
  {
   "cell_type": "code",
   "execution_count": 7,
   "metadata": {},
   "outputs": [
    {
     "data": {
      "text/plain": [
       "((64, 1300, 300), (64, 300), (64, 50, 20000))"
      ]
     },
     "execution_count": 7,
     "metadata": {},
     "output_type": "execute_result"
    }
   ],
   "source": [
    "x['sentence_vectors'].shape, x['headline_vector'].shape, y['headline_token_classes'].shape"
   ]
  },
  {
   "cell_type": "code",
   "execution_count": 8,
   "metadata": {},
   "outputs": [],
   "source": [
    "# class Attention_Layer(Layer):\n",
    "#     def __init__(self,ch,**kwargs):\n",
    "#         self.channels=ch\n",
    "# #         self.h_w=self.channels//8\n",
    "#         super(Attention_Layer,self).__init__(**kwargs)\n",
    "\n",
    "#     def build(self,input_shape):\n",
    "# #         kernel_shape=(1, 3, 3) + (self.channels, self.h_w)\n",
    "# #         print(input_shape)\n",
    "#         self.gamma = self.add_weight(name='gamma', shape=[1], initializer='zeros', trainable=True)\n",
    "#         super(Attention_Layer, self).build(input_shape)\n",
    "\n",
    "#     def call(self, x):\n",
    "# #         print('input shape:',x.shape) # None, 16,12,512\n",
    "#         s,h = \n",
    "#         exp_x = K.expand_dims(x,axis=-1)\n",
    "# #         print('expanded input shape:',exp_x.shape) # N, 16, 12, 512, 1\n",
    "# #         filters = Attention Heads\n",
    "#         conv3d = kl.Conv3D(padding='same',filters=1, kernel_size=(3,3,512), strides=(1,1,512),kernel_initializer='he_normal',activation='relu')(exp_x)\n",
    "# #         print('conv3d shape:', conv3d.shape)\n",
    "#         conv3d = K.squeeze(K.squeeze(conv3d, axis=-1),axis=-1)\n",
    "# #         print('conv3d shape:', conv3d.shape)\n",
    "#         conv3d = K.expand_dims(conv3d,axis=1) # N, 1, 16, 12\n",
    "# #         print('conv3d shape:', conv3d.shape)\n",
    "#         softmax_alpha = K.softmax(conv3d, axis=1) # attention map # N, 16, 12\n",
    "# #         print('softmax_alpha shape:', softmax_alpha.shape)\n",
    "#         softmax_alpha = K.squeeze(softmax_alpha, axis=1) \n",
    "# #         print('softmax_alpha shape:', softmax_alpha.shape)\n",
    "#         exp_softmax_alpha = K.expand_dims(softmax_alpha, axis=-1) # for elementwise multiplication\n",
    "# #         print('exp_softmax_alpha shape:', exp_softmax_alpha.shape)\n",
    "        \n",
    "#         u = kl.multiply([exp_softmax_alpha, x])\n",
    "        \n",
    "#         u = (self.gamma * u) + (self.gamma * u * x)\n",
    "# #         print('u shape:', u.shape)\n",
    "#         return u\n",
    "# #         return [u, softmax_alpha, self.gamma]\n",
    "\n",
    "#     def compute_output_shape(self, input_shape): \n",
    "#         return input_shape\n",
    "# #         return [input_shape,(None,16,12),(None,1)]\n",
    "    \n",
    "#     def get_config(self):\n",
    "#         return super(Attention_Layer,self).get_config()"
   ]
  },
  {
   "cell_type": "code",
   "execution_count": 9,
   "metadata": {},
   "outputs": [
    {
     "name": "stdout",
     "output_type": "stream",
     "text": [
      "_________________________________________________________________\n",
      "Layer (type)                 Output Shape              Param #   \n",
      "=================================================================\n",
      "sentence_vectors (InputLayer (None, 1300, 300)         0         \n",
      "_________________________________________________________________\n",
      "conv1d_1 (Conv1D)            (None, 1300, 16)          14416     \n",
      "_________________________________________________________________\n",
      "conv1d_2 (Conv1D)            (None, 1298, 32)          1568      \n",
      "_________________________________________________________________\n",
      "global_average_pooling1d_1 ( (None, 32)                0         \n",
      "_________________________________________________________________\n",
      "repeat_vector_1 (RepeatVecto (None, 50, 32)            0         \n",
      "_________________________________________________________________\n",
      "lstm_1 (LSTM)                (None, 50, 256)           295936    \n",
      "_________________________________________________________________\n",
      "headline_token_classes (Time (None, 50, 20000)         5140000   \n",
      "=================================================================\n",
      "Total params: 5,451,920\n",
      "Trainable params: 5,451,920\n",
      "Non-trainable params: 0\n",
      "_________________________________________________________________\n"
     ]
    }
   ],
   "source": [
    "def build_model():\n",
    "    inp_sentence_vectors = Input(shape=(1300, 300), name='sentence_vectors')\n",
    "    inp_headline_vector = Input(shape=(300,), name='headline_vector')\n",
    "    conv1 = Conv1D(filters=16,kernel_size=3,strides=1,activation='relu', padding='same')(inp_sentence_vectors)\n",
    "    conv2 = Conv1D(filters=32,kernel_size=3,strides=1,activation='relu')(conv1)\n",
    "    gap = GlobalAveragePooling1D()(conv2)\n",
    "    repeat = RepeatVector(50)(gap)\n",
    "    lstm = LSTM(256,return_sequences=True)(repeat)\n",
    "    timeDist = TimeDistributed(Dense(20000,activation='softmax'), name='headline_token_classes')(lstm)\n",
    "    model = Model(inp_sentence_vectors,timeDist)\n",
    "    return model\n",
    "model = build_model()\n",
    "model.compile(optimizer=optimizers.Adam(),loss='categorical_crossentropy',metrics=['accuracy'])\n",
    "model.summary()"
   ]
  },
  {
   "cell_type": "code",
   "execution_count": null,
   "metadata": {},
   "outputs": [
    {
     "name": "stdout",
     "output_type": "stream",
     "text": [
      "Epoch 1/100\n"
     ]
    }
   ],
   "source": [
    "hist = model.fit_generator(tdg,steps_per_epoch=1,epochs=100)"
   ]
  }
 ],
 "metadata": {
  "kernelspec": {
   "display_name": "Python (tf-gpu)",
   "language": "python",
   "name": "tf-gpu"
  },
  "language_info": {
   "codemirror_mode": {
    "name": "ipython",
    "version": 3
   },
   "file_extension": ".py",
   "mimetype": "text/x-python",
   "name": "python",
   "nbconvert_exporter": "python",
   "pygments_lexer": "ipython3",
   "version": "3.5.6"
  }
 },
 "nbformat": 4,
 "nbformat_minor": 2
}
